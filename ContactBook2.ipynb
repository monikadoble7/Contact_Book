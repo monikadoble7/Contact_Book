{
 "cells": [
  {
   "cell_type": "code",
   "execution_count": 99,
   "id": "c37a0c7f-f7a9-45b9-9c68-0d5e45a2cb34",
   "metadata": {},
   "outputs": [
    {
     "name": "stdout",
     "output_type": "stream",
     "text": [
      "\n",
      "1. Add Contact\n",
      "2. Display Contacts\n",
      "3. Search Contact\n",
      "4. Delete Contact\n",
      "5. Exit\n"
     ]
    },
    {
     "name": "stdin",
     "output_type": "stream",
     "text": [
      "Enter choice:  1\n",
      "Enter name:  khushi\n",
      "Enter phone number:  1234567890\n",
      "Enter email:  khushimisar@gmail.com\n"
     ]
    },
    {
     "name": "stdout",
     "output_type": "stream",
     "text": [
      "Contact added successfully!\n",
      "\n",
      "1. Add Contact\n",
      "2. Display Contacts\n",
      "3. Search Contact\n",
      "4. Delete Contact\n",
      "5. Exit\n"
     ]
    },
    {
     "name": "stdin",
     "output_type": "stream",
     "text": [
      "Enter choice:  2\n"
     ]
    },
    {
     "name": "stdout",
     "output_type": "stream",
     "text": [
      "Name: khushi, Phone: 1234567890, Email: khushimisar@gmail.com\n",
      "\n",
      "1. Add Contact\n",
      "2. Display Contacts\n",
      "3. Search Contact\n",
      "4. Delete Contact\n",
      "5. Exit\n"
     ]
    },
    {
     "name": "stdin",
     "output_type": "stream",
     "text": [
      "Enter choice:  3\n",
      "Enter name to search:  ana\n"
     ]
    },
    {
     "name": "stdout",
     "output_type": "stream",
     "text": [
      "Contact not found.\n",
      "\n",
      "1. Add Contact\n",
      "2. Display Contacts\n",
      "3. Search Contact\n",
      "4. Delete Contact\n",
      "5. Exit\n"
     ]
    },
    {
     "name": "stdin",
     "output_type": "stream",
     "text": [
      "Enter choice:  4\n",
      "Enter name to delete:  ana\n"
     ]
    },
    {
     "name": "stdout",
     "output_type": "stream",
     "text": [
      "Contact deleted successfully!\n",
      "\n",
      "1. Add Contact\n",
      "2. Display Contacts\n",
      "3. Search Contact\n",
      "4. Delete Contact\n",
      "5. Exit\n"
     ]
    },
    {
     "name": "stdin",
     "output_type": "stream",
     "text": [
      "Enter choice:  5\n"
     ]
    },
    {
     "name": "stdout",
     "output_type": "stream",
     "text": [
      "Goodbye!\n"
     ]
    }
   ],
   "source": [
    "import mysql.connector\n",
    "\n",
    "# Establish connection to MySQL\n",
    "def get_connection():\n",
    "    return mysql.connector.connect(\n",
    "        host='localhost',\n",
    "        database='contact_book',\n",
    "        user='root',\n",
    "        password='Khushi2003'\n",
    "    )\n",
    "\n",
    "# Add contact\n",
    "def add_contact():\n",
    "    name = input(\"Enter name: \")\n",
    "    phone = input(\"Enter phone number: \")\n",
    "    email = input(\"Enter email: \")\n",
    "\n",
    "    conn = get_connection()\n",
    "    cursor = conn.cursor()\n",
    "    \n",
    "    # Fixed column names\n",
    "    cursor.execute(\"INSERT INTO contacts(name, phone, email) VALUES (%s, %s, %s)\", (name, phone, email))\n",
    "    \n",
    "    conn.commit()\n",
    "    print(\"Contact added successfully!\")\n",
    "    conn.close()\n",
    "\n",
    "# Display all contacts\n",
    "def display_contacts():\n",
    "    conn = get_connection()\n",
    "    cursor = conn.cursor()\n",
    "    \n",
    "    cursor.execute(\"SELECT name, phone, email FROM contacts\")\n",
    "    for row in cursor.fetchall():\n",
    "        print(f\"Name: {row[0]}, Phone: {row[1]}, Email: {row[2]}\")\n",
    "    \n",
    "    conn.close()\n",
    "\n",
    "# Search contact\n",
    "def search_contact():\n",
    "    name = input(\"Enter name to search: \")\n",
    "    conn = get_connection()\n",
    "    cursor = conn.cursor()\n",
    "    \n",
    "    # Fixed table name and single-element tuple\n",
    "    cursor.execute(\"SELECT name, phone, email FROM contacts WHERE name = %s\", (name,))\n",
    "    contact = cursor.fetchone()\n",
    "    \n",
    "    if contact:\n",
    "        print(f\"Name: {contact[0]}, Phone: {contact[1]}, Email: {contact[2]}\")\n",
    "    else:\n",
    "        print(\"Contact not found.\")\n",
    "    \n",
    "    conn.close()\n",
    "\n",
    "# Delete contact\n",
    "def delete_contact():\n",
    "    name = input(\"Enter name to delete: \")\n",
    "    conn = get_connection()\n",
    "    cursor = conn.cursor()\n",
    "    \n",
    "    # Fixed DELETE statement and table name\n",
    "    cursor.execute(\"DELETE FROM contacts WHERE name = %s\", (name,))\n",
    "    conn.commit()\n",
    "    \n",
    "    print(\"Contact deleted successfully!\")\n",
    "    conn.close()\n",
    "\n",
    "# Main menu\n",
    "def main():\n",
    "    while True:\n",
    "        print(\"\\n1. Add Contact\\n2. Display Contacts\\n3. Search Contact\\n4. Delete Contact\\n5. Exit\")\n",
    "        choice = input(\"Enter choice: \")\n",
    "\n",
    "        if choice == '1':\n",
    "            add_contact()\n",
    "        elif choice == '2':\n",
    "            display_contacts()\n",
    "        elif choice == '3':\n",
    "            search_contact()\n",
    "        elif choice == '4':\n",
    "            delete_contact()\n",
    "        elif choice == '5':\n",
    "            print(\"Goodbye!\")\n",
    "            break\n",
    "        else:\n",
    "            print(\"Invalid choice, try again.\")\n",
    "\n",
    "\n",
    "main()\n"
   ]
  },
  {
   "cell_type": "code",
   "execution_count": null,
   "id": "acd9d370-1a09-4709-9239-85594b30bcb9",
   "metadata": {},
   "outputs": [],
   "source": []
  }
 ],
 "metadata": {
  "kernelspec": {
   "display_name": "Python [conda env:base] *",
   "language": "python",
   "name": "conda-base-py"
  },
  "language_info": {
   "codemirror_mode": {
    "name": "ipython",
    "version": 3
   },
   "file_extension": ".py",
   "mimetype": "text/x-python",
   "name": "python",
   "nbconvert_exporter": "python",
   "pygments_lexer": "ipython3",
   "version": "3.12.7"
  }
 },
 "nbformat": 4,
 "nbformat_minor": 5
}
